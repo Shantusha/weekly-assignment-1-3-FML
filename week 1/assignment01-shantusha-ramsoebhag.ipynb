{
 "cells": [
  {
   "cell_type": "markdown",
   "metadata": {},
   "source": [
    "## Introduction \n",
    "### Weekly assignment 1: exploratory data analysis\n"
   ]
  },
  {
   "cell_type": "markdown",
   "metadata": {},
   "source": [
    "For this first weekly assignment I will learn how to do a exploratory data analysis. The topic of this assignment is exploring data from activity trackers. I will first clean the data and then I will explore the data."
   ]
  },
  {
   "cell_type": "markdown",
   "metadata": {},
   "source": [
    "### Data Cleaning"
   ]
  },
  {
   "cell_type": "code",
   "execution_count": 2,
   "metadata": {},
   "outputs": [
    {
     "data": {
      "text/plain": [
       "<bound method NDFrame.head of       id  20-6-2013  21-6-2013  22-6-2013  23-6-2013  24-6-2013  25-6-2013  \\\n",
       "0      1        NaN        NaN        NaN        NaN     3941.0    15733.0   \n",
       "1      2        NaN        NaN    10473.0      705.0     4287.0     5507.0   \n",
       "2      3        NaN    11428.0    12523.0     2553.0      190.0     2164.0   \n",
       "3      4        NaN        NaN        NaN        NaN        NaN        NaN   \n",
       "4      5        NaN        NaN        NaN        NaN        NaN        NaN   \n",
       "..   ...        ...        ...        ...        ...        ...        ...   \n",
       "924  925        NaN     4571.0    10471.0     5899.0    15295.0     9178.0   \n",
       "925  926        NaN        NaN        NaN        NaN        NaN        NaN   \n",
       "926  927        NaN        NaN        NaN     1623.0        NaN        NaN   \n",
       "927  928        NaN        NaN    14411.0    14364.0    26629.0    13092.0   \n",
       "928  929        NaN     3324.0     4507.0    14364.0     4098.0     7299.0   \n",
       "\n",
       "     26-6-2013  27-6-2013  28-6-2013  ...  4-5-2014  5-5-2014  6-5-2014  \\\n",
       "0       9929.0    12879.0    10541.0  ...       NaN       NaN       NaN   \n",
       "1       4024.0     3926.0    14595.0  ...       NaN       NaN       NaN   \n",
       "2       8185.0     9630.0     8983.0  ...    3914.0    4364.0       NaN   \n",
       "3          NaN        NaN        NaN  ...       NaN       NaN       NaN   \n",
       "4          NaN        NaN        NaN  ...       NaN       NaN       NaN   \n",
       "..         ...        ...        ...  ...       ...       ...       ...   \n",
       "924     9348.0    12229.0    13767.0  ...       NaN       NaN       NaN   \n",
       "925        NaN        NaN        NaN  ...       NaN       NaN       NaN   \n",
       "926        NaN        NaN        NaN  ...       NaN       NaN       NaN   \n",
       "927     9266.0    14949.0    43238.0  ...       NaN       NaN       NaN   \n",
       "928    11534.0    10125.0     7700.0  ...       NaN       NaN       NaN   \n",
       "\n",
       "     7-5-2014  8-5-2014  9-5-2014  10-5-2014  11-5-2014  12-5-2014  13-5-2014  \n",
       "0         NaN       NaN       NaN        NaN        NaN        NaN        NaN  \n",
       "1         NaN       NaN       NaN        NaN        NaN        NaN        NaN  \n",
       "2         NaN       NaN    6227.0     4567.0     2567.0     1129.0        NaN  \n",
       "3         NaN       NaN       NaN        NaN        NaN        NaN        NaN  \n",
       "4         NaN       NaN       NaN        NaN        NaN        NaN        NaN  \n",
       "..        ...       ...       ...        ...        ...        ...        ...  \n",
       "924       NaN       NaN       NaN        NaN        NaN        NaN        NaN  \n",
       "925       NaN       NaN       NaN        NaN        NaN        NaN        NaN  \n",
       "926       NaN       NaN       NaN        NaN        NaN        NaN        NaN  \n",
       "927       NaN       NaN       NaN        NaN        NaN        NaN        NaN  \n",
       "928       NaN       NaN       NaN        NaN        NaN        NaN        NaN  \n",
       "\n",
       "[929 rows x 329 columns]>"
      ]
     },
     "execution_count": 2,
     "metadata": {},
     "output_type": "execute_result"
    }
   ],
   "source": [
    "import pandas as pd \n",
    "import csv\n",
    "import seaborn as sns\n",
    "import matplotlib.pyplot as plt\n",
    "import math\n",
    "from sklearn.linear_model import LinearRegression\n",
    "from sklearn.model_selection import train_test_split\n",
    "from sklearn.metrics import mean_squared_error\n",
    "from sklearn.metrics import r2_score\n",
    "\n",
    "steps = pd.read_csv('steps.csv', sep=';')\n",
    "steps.head"
   ]
  },
  {
   "cell_type": "code",
   "execution_count": 3,
   "metadata": {},
   "outputs": [],
   "source": [
    "survey = pd.read_csv('survey.csv')"
   ]
  },
  {
   "cell_type": "code",
   "execution_count": 6,
   "metadata": {},
   "outputs": [
    {
     "data": {
      "text/html": [
       "<div>\n",
       "<style scoped>\n",
       "    .dataframe tbody tr th:only-of-type {\n",
       "        vertical-align: middle;\n",
       "    }\n",
       "\n",
       "    .dataframe tbody tr th {\n",
       "        vertical-align: top;\n",
       "    }\n",
       "\n",
       "    .dataframe thead th {\n",
       "        text-align: right;\n",
       "    }\n",
       "</style>\n",
       "<table border=\"1\" class=\"dataframe\">\n",
       "  <thead>\n",
       "    <tr style=\"text-align: right;\">\n",
       "      <th></th>\n",
       "      <th>id</th>\n",
       "      <th>20-6-2013</th>\n",
       "      <th>21-6-2013</th>\n",
       "      <th>22-6-2013</th>\n",
       "      <th>23-6-2013</th>\n",
       "      <th>24-6-2013</th>\n",
       "      <th>25-6-2013</th>\n",
       "      <th>26-6-2013</th>\n",
       "      <th>27-6-2013</th>\n",
       "      <th>28-6-2013</th>\n",
       "      <th>...</th>\n",
       "      <th>12-5-2014</th>\n",
       "      <th>13-5-2014</th>\n",
       "      <th>city</th>\n",
       "      <th>gender</th>\n",
       "      <th>age</th>\n",
       "      <th>hh_size</th>\n",
       "      <th>education</th>\n",
       "      <th>education_1</th>\n",
       "      <th>height</th>\n",
       "      <th>weight</th>\n",
       "    </tr>\n",
       "  </thead>\n",
       "  <tbody>\n",
       "    <tr>\n",
       "      <th>0</th>\n",
       "      <td>1</td>\n",
       "      <td>0.0</td>\n",
       "      <td>0.0</td>\n",
       "      <td>0.0</td>\n",
       "      <td>0.0</td>\n",
       "      <td>3941.0</td>\n",
       "      <td>15733.0</td>\n",
       "      <td>9929.0</td>\n",
       "      <td>12879.0</td>\n",
       "      <td>10541.0</td>\n",
       "      <td>...</td>\n",
       "      <td>0.0</td>\n",
       "      <td>0.0</td>\n",
       "      <td>Bordeaux</td>\n",
       "      <td>Male</td>\n",
       "      <td>25-34</td>\n",
       "      <td>4</td>\n",
       "      <td>4</td>\n",
       "      <td>Master or doctorate</td>\n",
       "      <td>178.0</td>\n",
       "      <td>98.0</td>\n",
       "    </tr>\n",
       "    <tr>\n",
       "      <th>1</th>\n",
       "      <td>2</td>\n",
       "      <td>0.0</td>\n",
       "      <td>0.0</td>\n",
       "      <td>10473.0</td>\n",
       "      <td>705.0</td>\n",
       "      <td>4287.0</td>\n",
       "      <td>5507.0</td>\n",
       "      <td>4024.0</td>\n",
       "      <td>3926.0</td>\n",
       "      <td>14595.0</td>\n",
       "      <td>...</td>\n",
       "      <td>0.0</td>\n",
       "      <td>0.0</td>\n",
       "      <td>Lille</td>\n",
       "      <td>Male</td>\n",
       "      <td>35-44</td>\n",
       "      <td>1</td>\n",
       "      <td>3</td>\n",
       "      <td>Bachelor</td>\n",
       "      <td>180.0</td>\n",
       "      <td>77.0</td>\n",
       "    </tr>\n",
       "    <tr>\n",
       "      <th>2</th>\n",
       "      <td>3</td>\n",
       "      <td>0.0</td>\n",
       "      <td>11428.0</td>\n",
       "      <td>12523.0</td>\n",
       "      <td>2553.0</td>\n",
       "      <td>190.0</td>\n",
       "      <td>2164.0</td>\n",
       "      <td>8185.0</td>\n",
       "      <td>9630.0</td>\n",
       "      <td>8983.0</td>\n",
       "      <td>...</td>\n",
       "      <td>1129.0</td>\n",
       "      <td>0.0</td>\n",
       "      <td>Montpellier</td>\n",
       "      <td>Male</td>\n",
       "      <td>25-34</td>\n",
       "      <td>2</td>\n",
       "      <td>2</td>\n",
       "      <td>Master or doctorate</td>\n",
       "      <td>180.0</td>\n",
       "      <td>83.0</td>\n",
       "    </tr>\n",
       "    <tr>\n",
       "      <th>3</th>\n",
       "      <td>4</td>\n",
       "      <td>0.0</td>\n",
       "      <td>0.0</td>\n",
       "      <td>0.0</td>\n",
       "      <td>0.0</td>\n",
       "      <td>0.0</td>\n",
       "      <td>0.0</td>\n",
       "      <td>0.0</td>\n",
       "      <td>0.0</td>\n",
       "      <td>0.0</td>\n",
       "      <td>...</td>\n",
       "      <td>0.0</td>\n",
       "      <td>0.0</td>\n",
       "      <td>Lyon</td>\n",
       "      <td>Male</td>\n",
       "      <td>&lt;25</td>\n",
       "      <td>1</td>\n",
       "      <td>1</td>\n",
       "      <td>Bachelor</td>\n",
       "      <td>178.0</td>\n",
       "      <td>80.0</td>\n",
       "    </tr>\n",
       "    <tr>\n",
       "      <th>4</th>\n",
       "      <td>5</td>\n",
       "      <td>0.0</td>\n",
       "      <td>0.0</td>\n",
       "      <td>0.0</td>\n",
       "      <td>0.0</td>\n",
       "      <td>0.0</td>\n",
       "      <td>0.0</td>\n",
       "      <td>0.0</td>\n",
       "      <td>0.0</td>\n",
       "      <td>0.0</td>\n",
       "      <td>...</td>\n",
       "      <td>0.0</td>\n",
       "      <td>0.0</td>\n",
       "      <td>Montpellier</td>\n",
       "      <td>Female</td>\n",
       "      <td>25-34</td>\n",
       "      <td>3</td>\n",
       "      <td>4</td>\n",
       "      <td>Bachelor</td>\n",
       "      <td>167.0</td>\n",
       "      <td>61.0</td>\n",
       "    </tr>\n",
       "  </tbody>\n",
       "</table>\n",
       "<p>5 rows × 337 columns</p>\n",
       "</div>"
      ],
      "text/plain": [
       "   id  20-6-2013  21-6-2013  22-6-2013  23-6-2013  24-6-2013  25-6-2013  \\\n",
       "0   1        0.0        0.0        0.0        0.0     3941.0    15733.0   \n",
       "1   2        0.0        0.0    10473.0      705.0     4287.0     5507.0   \n",
       "2   3        0.0    11428.0    12523.0     2553.0      190.0     2164.0   \n",
       "3   4        0.0        0.0        0.0        0.0        0.0        0.0   \n",
       "4   5        0.0        0.0        0.0        0.0        0.0        0.0   \n",
       "\n",
       "   26-6-2013  27-6-2013  28-6-2013  ...  12-5-2014  13-5-2014         city  \\\n",
       "0     9929.0    12879.0    10541.0  ...        0.0        0.0     Bordeaux   \n",
       "1     4024.0     3926.0    14595.0  ...        0.0        0.0        Lille   \n",
       "2     8185.0     9630.0     8983.0  ...     1129.0        0.0  Montpellier   \n",
       "3        0.0        0.0        0.0  ...        0.0        0.0         Lyon   \n",
       "4        0.0        0.0        0.0  ...        0.0        0.0  Montpellier   \n",
       "\n",
       "   gender    age  hh_size  education          education_1  height  weight  \n",
       "0    Male  25-34        4          4  Master or doctorate   178.0    98.0  \n",
       "1    Male  35-44        1          3             Bachelor   180.0    77.0  \n",
       "2    Male  25-34        2          2  Master or doctorate   180.0    83.0  \n",
       "3    Male    <25        1          1             Bachelor   178.0    80.0  \n",
       "4  Female  25-34        3          4             Bachelor   167.0    61.0  \n",
       "\n",
       "[5 rows x 337 columns]"
      ]
     },
     "execution_count": 6,
     "metadata": {},
     "output_type": "execute_result"
    }
   ],
   "source": [
    "# Read in and merge the two data sets\n",
    "# Clean the data: remove impossible values\n",
    "df = pd.merge(steps, survey, on='id')\n",
    "df = df.fillna(0)\n",
    "df.head()"
   ]
  },
  {
   "cell_type": "code",
   "execution_count": 7,
   "metadata": {},
   "outputs": [
    {
     "name": "stderr",
     "output_type": "stream",
     "text": [
      "C:\\Temp\\ipykernel_9436\\1372497930.py:2: UserWarning: Parsing dates in DD/MM/YYYY format when dayfirst=False (the default) was specified. This may lead to inconsistently parsed dates! Specify a format to ensure consistent parsing.\n",
      "  meanSteps = df.loc['0':'929','20-6-2013':'13-5-2014']\n"
     ]
    },
    {
     "data": {
      "text/html": [
       "<div>\n",
       "<style scoped>\n",
       "    .dataframe tbody tr th:only-of-type {\n",
       "        vertical-align: middle;\n",
       "    }\n",
       "\n",
       "    .dataframe tbody tr th {\n",
       "        vertical-align: top;\n",
       "    }\n",
       "\n",
       "    .dataframe thead th {\n",
       "        text-align: right;\n",
       "    }\n",
       "</style>\n",
       "<table border=\"1\" class=\"dataframe\">\n",
       "  <thead>\n",
       "    <tr style=\"text-align: right;\">\n",
       "      <th></th>\n",
       "      <th>id</th>\n",
       "      <th>mean steps per participant</th>\n",
       "    </tr>\n",
       "  </thead>\n",
       "  <tbody>\n",
       "    <tr>\n",
       "      <th>0</th>\n",
       "      <td>0</td>\n",
       "      <td>5133.875000</td>\n",
       "    </tr>\n",
       "    <tr>\n",
       "      <th>1</th>\n",
       "      <td>1</td>\n",
       "      <td>2826.371951</td>\n",
       "    </tr>\n",
       "    <tr>\n",
       "      <th>2</th>\n",
       "      <td>2</td>\n",
       "      <td>3745.902439</td>\n",
       "    </tr>\n",
       "    <tr>\n",
       "      <th>3</th>\n",
       "      <td>3</td>\n",
       "      <td>221.536585</td>\n",
       "    </tr>\n",
       "    <tr>\n",
       "      <th>4</th>\n",
       "      <td>4</td>\n",
       "      <td>874.557927</td>\n",
       "    </tr>\n",
       "  </tbody>\n",
       "</table>\n",
       "</div>"
      ],
      "text/plain": [
       "   id  mean steps per participant\n",
       "0   0                 5133.875000\n",
       "1   1                 2826.371951\n",
       "2   2                 3745.902439\n",
       "3   3                  221.536585\n",
       "4   4                  874.557927"
      ]
     },
     "execution_count": 7,
     "metadata": {},
     "output_type": "execute_result"
    }
   ],
   "source": [
    "# Create the variable mean steps per participant.\n",
    "meanSteps = df.loc['0':'929','20-6-2013':'13-5-2014']\n",
    "meanSteps = meanSteps.mean(axis = 1).reset_index(name='mean steps per participant')#.set_index('mean steps per participant')\n",
    "#meanSteps = meanSteps.drop('index', axis=1)\n",
    "meanSteps.columns = ['id', 'mean steps per participant']\n",
    "meanSteps.head()"
   ]
  },
  {
   "cell_type": "markdown",
   "metadata": {},
   "source": [
    "### Exploratory data analysis"
   ]
  },
  {
   "cell_type": "code",
   "execution_count": 8,
   "metadata": {},
   "outputs": [
    {
     "data": {
      "text/plain": [
       "<AxesSubplot: xlabel='mean steps per participant', ylabel='Count'>"
      ]
     },
     "execution_count": 8,
     "metadata": {},
     "output_type": "execute_result"
    },
    {
     "data": {
      "image/png": "[encoded data removed]",
      "text/plain": [
       "<Figure size 640x480 with 1 Axes>"
      ]
     },
     "metadata": {},
     "output_type": "display_data"
    }
   ],
   "source": [
    "# Graph of the distribution\n",
    "sns.histplot(meanSteps, kde=False, x='mean steps per participant') "
   ]
  },
  {
   "cell_type": "markdown",
   "metadata": {},
   "source": [
    "### Description of the distribution \n",
    "\n",
    "The data is right skewed. The graph shows that there are fewer data plots the more you move to the right. So there are fewer participants with a high mean of the total steps. In this area of one of the highest mean steps per participants the graph shows some outliers, for example a participant with a mean step of almost 20000 all the way to the right of the graph. "
   ]
  },
  {
   "cell_type": "code",
   "execution_count": 9,
   "metadata": {},
   "outputs": [
    {
     "name": "stderr",
     "output_type": "stream",
     "text": [
      "C:\\Temp\\ipykernel_9436\\2582402083.py:3: UserWarning: Parsing dates in DD/MM/YYYY format when dayfirst=False (the default) was specified. This may lead to inconsistently parsed dates! Specify a format to ensure consistent parsing.\n",
      "  mspp_cv = df[(df['gender'] == 'Female') & (df['age'] == '55-64')].loc['0':'929','20-6-2013':'13-5-2014']\n"
     ]
    },
    {
     "data": {
      "text/plain": [
       "<AxesSubplot: xlabel='mean steps per female'>"
      ]
     },
     "execution_count": 9,
     "metadata": {},
     "output_type": "execute_result"
    },
    {
     "data": {
      "image/png": "[encoded data removed]",
      "text/plain": [
       "<Figure size 640x480 with 1 Axes>"
      ]
     },
     "metadata": {},
     "output_type": "display_data"
    }
   ],
   "source": [
    "# The relation of mean steps per participant with two categorical variables, age and gender\n",
    "# mspp_cv = mean steps per participant with categorical variables\n",
    "mspp_cv = df[(df['gender'] == 'Female') & (df['age'] == '55-64')].loc['0':'929','20-6-2013':'13-5-2014']\n",
    "mspp_cv = mspp_cv.mean(axis = 1).reset_index(name='mean steps per female')#.set_index('mean steps per female')\n",
    "\n",
    "# Graph of the relation  \n",
    "sns.boxplot(x=mspp_cv['mean steps per female'])\n",
    "sns.swarmplot(x=mspp_cv['mean steps per female'], color='.25')"
   ]
  },
  {
   "cell_type": "markdown",
   "metadata": {},
   "source": [
    "### Description and interpretation of the results\n",
    "\n",
    "The data is more skewed to the right. So it is shown that most females within the age of 55 and 64 have a mean steps within around 2000 and 5000. There are some outliers on the right of the boxplot. This can maybe be advanced female walkers or females who have a job that consist of alot of walking on a daily basis. "
   ]
  },
  {
   "cell_type": "markdown",
   "metadata": {},
   "source": [
    "## Weekly assignment 2: correlation\n",
    "### Feature Engineering\n",
    "\n",
    "BMI gives a better indication of a healty weight. This can be calculated by dividing the weight in kilograms by the square of your height in meters. "
   ]
  },
  {
   "cell_type": "markdown",
   "metadata": {},
   "source": [
    "### Exploratory data analysis"
   ]
  },
  {
   "cell_type": "code",
   "execution_count": 10,
   "metadata": {},
   "outputs": [
    {
     "data": {
      "image/png": "[encoded data removed]",
      "text/plain": [
       "<Figure size 640x480 with 25 Axes>"
      ]
     },
     "metadata": {},
     "output_type": "display_data"
    }
   ],
   "source": [
    "# Make a scatterplot matrix of the numerical variables\n",
    "# numerical variables: weight, height, the steps, hh-size, age and education\n",
    "# Combining the mean steps with the numerical variables \n",
    "df2 = pd.merge(meanSteps, df, on='id')\n",
    "\n",
    "import matplotlib.pyplot as plt\n",
    "from pandas.plotting import scatter_matrix\n",
    "  \n",
    "# selecting three numerical features\n",
    "features = df2[['mean steps per participant', 'age', 'weight', 'height', 'hh_size', 'education']]\n",
    "   \n",
    "# plotting the scatter matrix\n",
    "# with the features\n",
    "scatter_matrix(features)\n",
    "plt.show()"
   ]
  },
  {
   "cell_type": "markdown",
   "metadata": {},
   "source": [
    "#### Describe and interpret the results\n",
    "The relation between the mean steps per participant, weight and height shows an increasing relationship. \n",
    "The scatterplot of the mean steps and hh_size has a decreasing relationships. You can see less points as the data goes to the right and there are a few outliers. The relation between the mean steps and the education is a little bit curved. You can clearly see that weight and height has an effect on the mean steps results, because the outer parts of the scatterplots show less points. This can indicate that people with a lower or heigher weight or height have a lower mean steps results. "
   ]
  },
  {
   "cell_type": "code",
   "execution_count": 11,
   "metadata": {},
   "outputs": [
    {
     "name": "stderr",
     "output_type": "stream",
     "text": [
      "C:\\Temp\\ipykernel_9436\\2068178422.py:2: FutureWarning: The default value of numeric_only in DataFrame.corr is deprecated. In a future version, it will default to False. Select only valid columns or specify the value of numeric_only to silence this warning.\n",
      "  corr = df2[['mean steps per participant', 'age', 'weight', 'height', 'hh_size', 'education']].corr()\n"
     ]
    },
    {
     "data": {
      "text/html": [
       "<div>\n",
       "<style scoped>\n",
       "    .dataframe tbody tr th:only-of-type {\n",
       "        vertical-align: middle;\n",
       "    }\n",
       "\n",
       "    .dataframe tbody tr th {\n",
       "        vertical-align: top;\n",
       "    }\n",
       "\n",
       "    .dataframe thead th {\n",
       "        text-align: right;\n",
       "    }\n",
       "</style>\n",
       "<table border=\"1\" class=\"dataframe\">\n",
       "  <thead>\n",
       "    <tr style=\"text-align: right;\">\n",
       "      <th></th>\n",
       "      <th>mean steps per participant</th>\n",
       "      <th>weight</th>\n",
       "      <th>height</th>\n",
       "      <th>hh_size</th>\n",
       "      <th>education</th>\n",
       "    </tr>\n",
       "  </thead>\n",
       "  <tbody>\n",
       "    <tr>\n",
       "      <th>mean steps per participant</th>\n",
       "      <td>1.000000</td>\n",
       "      <td>0.000802</td>\n",
       "      <td>-0.004424</td>\n",
       "      <td>0.008912</td>\n",
       "      <td>0.013622</td>\n",
       "    </tr>\n",
       "    <tr>\n",
       "      <th>weight</th>\n",
       "      <td>0.000802</td>\n",
       "      <td>1.000000</td>\n",
       "      <td>0.238482</td>\n",
       "      <td>0.037852</td>\n",
       "      <td>0.029877</td>\n",
       "    </tr>\n",
       "    <tr>\n",
       "      <th>height</th>\n",
       "      <td>-0.004424</td>\n",
       "      <td>0.238482</td>\n",
       "      <td>1.000000</td>\n",
       "      <td>-0.031508</td>\n",
       "      <td>-0.018195</td>\n",
       "    </tr>\n",
       "    <tr>\n",
       "      <th>hh_size</th>\n",
       "      <td>0.008912</td>\n",
       "      <td>0.037852</td>\n",
       "      <td>-0.031508</td>\n",
       "      <td>1.000000</td>\n",
       "      <td>0.825572</td>\n",
       "    </tr>\n",
       "    <tr>\n",
       "      <th>education</th>\n",
       "      <td>0.013622</td>\n",
       "      <td>0.029877</td>\n",
       "      <td>-0.018195</td>\n",
       "      <td>0.825572</td>\n",
       "      <td>1.000000</td>\n",
       "    </tr>\n",
       "  </tbody>\n",
       "</table>\n",
       "</div>"
      ],
      "text/plain": [
       "                            mean steps per participant    weight    height  \\\n",
       "mean steps per participant                    1.000000  0.000802 -0.004424   \n",
       "weight                                        0.000802  1.000000  0.238482   \n",
       "height                                       -0.004424  0.238482  1.000000   \n",
       "hh_size                                       0.008912  0.037852 -0.031508   \n",
       "education                                     0.013622  0.029877 -0.018195   \n",
       "\n",
       "                             hh_size  education  \n",
       "mean steps per participant  0.008912   0.013622  \n",
       "weight                      0.037852   0.029877  \n",
       "height                     -0.031508  -0.018195  \n",
       "hh_size                     1.000000   0.825572  \n",
       "education                   0.825572   1.000000  "
      ]
     },
     "execution_count": 11,
     "metadata": {},
     "output_type": "execute_result"
    }
   ],
   "source": [
    "# Make a correlation matrix of the numerical variables\n",
    "corr = df2[['mean steps per participant', 'age', 'weight', 'height', 'hh_size', 'education']].corr()\n",
    "corr"
   ]
  },
  {
   "cell_type": "markdown",
   "metadata": {},
   "source": [
    "The correlation matrix shows that there is a weak relation between the mean steps and the weight, height, hh_size and education."
   ]
  },
  {
   "cell_type": "markdown",
   "metadata": {},
   "source": [
    "## Weekly assignment 3: linear regression"
   ]
  },
  {
   "cell_type": "markdown",
   "metadata": {},
   "source": [
    "### Predictive model\n",
    "\n",
    "Linear regression is a statistical way of measuringen/predicting the values of the future. "
   ]
  },
  {
   "cell_type": "code",
   "execution_count": 12,
   "metadata": {},
   "outputs": [
    {
     "data": {
      "text/html": [
       "<div>\n",
       "<style scoped>\n",
       "    .dataframe tbody tr th:only-of-type {\n",
       "        vertical-align: middle;\n",
       "    }\n",
       "\n",
       "    .dataframe tbody tr th {\n",
       "        vertical-align: top;\n",
       "    }\n",
       "\n",
       "    .dataframe thead th {\n",
       "        text-align: right;\n",
       "    }\n",
       "</style>\n",
       "<table border=\"1\" class=\"dataframe\">\n",
       "  <thead>\n",
       "    <tr style=\"text-align: right;\">\n",
       "      <th></th>\n",
       "      <th>id</th>\n",
       "      <th>city_Bordeaux</th>\n",
       "      <th>city_Lille</th>\n",
       "      <th>city_Lyon</th>\n",
       "      <th>city_Montpellier</th>\n",
       "      <th>gender_Female</th>\n",
       "      <th>gender_Male</th>\n",
       "      <th>education_1_Bachelor</th>\n",
       "      <th>education_1_High school</th>\n",
       "      <th>education_1_Master or doctorate</th>\n",
       "      <th>education_1_No degree</th>\n",
       "      <th>education_1_Primary</th>\n",
       "      <th>education_1_Vocational</th>\n",
       "      <th>mean steps per participant</th>\n",
       "    </tr>\n",
       "  </thead>\n",
       "  <tbody>\n",
       "    <tr>\n",
       "      <th>0</th>\n",
       "      <td>1</td>\n",
       "      <td>1</td>\n",
       "      <td>0</td>\n",
       "      <td>0</td>\n",
       "      <td>0</td>\n",
       "      <td>0</td>\n",
       "      <td>1</td>\n",
       "      <td>0</td>\n",
       "      <td>0</td>\n",
       "      <td>1</td>\n",
       "      <td>0</td>\n",
       "      <td>0</td>\n",
       "      <td>0</td>\n",
       "      <td>2826.371951</td>\n",
       "    </tr>\n",
       "    <tr>\n",
       "      <th>1</th>\n",
       "      <td>2</td>\n",
       "      <td>0</td>\n",
       "      <td>1</td>\n",
       "      <td>0</td>\n",
       "      <td>0</td>\n",
       "      <td>0</td>\n",
       "      <td>1</td>\n",
       "      <td>1</td>\n",
       "      <td>0</td>\n",
       "      <td>0</td>\n",
       "      <td>0</td>\n",
       "      <td>0</td>\n",
       "      <td>0</td>\n",
       "      <td>3745.902439</td>\n",
       "    </tr>\n",
       "    <tr>\n",
       "      <th>2</th>\n",
       "      <td>3</td>\n",
       "      <td>0</td>\n",
       "      <td>0</td>\n",
       "      <td>0</td>\n",
       "      <td>1</td>\n",
       "      <td>0</td>\n",
       "      <td>1</td>\n",
       "      <td>0</td>\n",
       "      <td>0</td>\n",
       "      <td>1</td>\n",
       "      <td>0</td>\n",
       "      <td>0</td>\n",
       "      <td>0</td>\n",
       "      <td>221.536585</td>\n",
       "    </tr>\n",
       "    <tr>\n",
       "      <th>3</th>\n",
       "      <td>4</td>\n",
       "      <td>0</td>\n",
       "      <td>0</td>\n",
       "      <td>1</td>\n",
       "      <td>0</td>\n",
       "      <td>0</td>\n",
       "      <td>1</td>\n",
       "      <td>1</td>\n",
       "      <td>0</td>\n",
       "      <td>0</td>\n",
       "      <td>0</td>\n",
       "      <td>0</td>\n",
       "      <td>0</td>\n",
       "      <td>874.557927</td>\n",
       "    </tr>\n",
       "    <tr>\n",
       "      <th>4</th>\n",
       "      <td>5</td>\n",
       "      <td>0</td>\n",
       "      <td>0</td>\n",
       "      <td>0</td>\n",
       "      <td>1</td>\n",
       "      <td>1</td>\n",
       "      <td>0</td>\n",
       "      <td>1</td>\n",
       "      <td>0</td>\n",
       "      <td>0</td>\n",
       "      <td>0</td>\n",
       "      <td>0</td>\n",
       "      <td>0</td>\n",
       "      <td>5554.884146</td>\n",
       "    </tr>\n",
       "    <tr>\n",
       "      <th>...</th>\n",
       "      <td>...</td>\n",
       "      <td>...</td>\n",
       "      <td>...</td>\n",
       "      <td>...</td>\n",
       "      <td>...</td>\n",
       "      <td>...</td>\n",
       "      <td>...</td>\n",
       "      <td>...</td>\n",
       "      <td>...</td>\n",
       "      <td>...</td>\n",
       "      <td>...</td>\n",
       "      <td>...</td>\n",
       "      <td>...</td>\n",
       "      <td>...</td>\n",
       "    </tr>\n",
       "    <tr>\n",
       "      <th>923</th>\n",
       "      <td>924</td>\n",
       "      <td>0</td>\n",
       "      <td>1</td>\n",
       "      <td>0</td>\n",
       "      <td>0</td>\n",
       "      <td>0</td>\n",
       "      <td>1</td>\n",
       "      <td>0</td>\n",
       "      <td>0</td>\n",
       "      <td>1</td>\n",
       "      <td>0</td>\n",
       "      <td>0</td>\n",
       "      <td>0</td>\n",
       "      <td>1742.908537</td>\n",
       "    </tr>\n",
       "    <tr>\n",
       "      <th>924</th>\n",
       "      <td>925</td>\n",
       "      <td>0</td>\n",
       "      <td>1</td>\n",
       "      <td>0</td>\n",
       "      <td>0</td>\n",
       "      <td>1</td>\n",
       "      <td>0</td>\n",
       "      <td>0</td>\n",
       "      <td>0</td>\n",
       "      <td>1</td>\n",
       "      <td>0</td>\n",
       "      <td>0</td>\n",
       "      <td>0</td>\n",
       "      <td>731.689024</td>\n",
       "    </tr>\n",
       "    <tr>\n",
       "      <th>925</th>\n",
       "      <td>926</td>\n",
       "      <td>0</td>\n",
       "      <td>1</td>\n",
       "      <td>0</td>\n",
       "      <td>0</td>\n",
       "      <td>0</td>\n",
       "      <td>1</td>\n",
       "      <td>1</td>\n",
       "      <td>0</td>\n",
       "      <td>0</td>\n",
       "      <td>0</td>\n",
       "      <td>0</td>\n",
       "      <td>0</td>\n",
       "      <td>6268.954268</td>\n",
       "    </tr>\n",
       "    <tr>\n",
       "      <th>926</th>\n",
       "      <td>927</td>\n",
       "      <td>0</td>\n",
       "      <td>0</td>\n",
       "      <td>0</td>\n",
       "      <td>1</td>\n",
       "      <td>0</td>\n",
       "      <td>1</td>\n",
       "      <td>1</td>\n",
       "      <td>0</td>\n",
       "      <td>0</td>\n",
       "      <td>0</td>\n",
       "      <td>0</td>\n",
       "      <td>0</td>\n",
       "      <td>3872.115854</td>\n",
       "    </tr>\n",
       "    <tr>\n",
       "      <th>927</th>\n",
       "      <td>928</td>\n",
       "      <td>0</td>\n",
       "      <td>1</td>\n",
       "      <td>0</td>\n",
       "      <td>0</td>\n",
       "      <td>1</td>\n",
       "      <td>0</td>\n",
       "      <td>0</td>\n",
       "      <td>1</td>\n",
       "      <td>0</td>\n",
       "      <td>0</td>\n",
       "      <td>0</td>\n",
       "      <td>0</td>\n",
       "      <td>3167.902439</td>\n",
       "    </tr>\n",
       "  </tbody>\n",
       "</table>\n",
       "<p>928 rows × 14 columns</p>\n",
       "</div>"
      ],
      "text/plain": [
       "      id  city_Bordeaux  city_Lille  city_Lyon  city_Montpellier  \\\n",
       "0      1              1           0          0                 0   \n",
       "1      2              0           1          0                 0   \n",
       "2      3              0           0          0                 1   \n",
       "3      4              0           0          1                 0   \n",
       "4      5              0           0          0                 1   \n",
       "..   ...            ...         ...        ...               ...   \n",
       "923  924              0           1          0                 0   \n",
       "924  925              0           1          0                 0   \n",
       "925  926              0           1          0                 0   \n",
       "926  927              0           0          0                 1   \n",
       "927  928              0           1          0                 0   \n",
       "\n",
       "     gender_Female  gender_Male  education_1_Bachelor  \\\n",
       "0                0            1                     0   \n",
       "1                0            1                     1   \n",
       "2                0            1                     0   \n",
       "3                0            1                     1   \n",
       "4                1            0                     1   \n",
       "..             ...          ...                   ...   \n",
       "923              0            1                     0   \n",
       "924              1            0                     0   \n",
       "925              0            1                     1   \n",
       "926              0            1                     1   \n",
       "927              1            0                     0   \n",
       "\n",
       "     education_1_High school  education_1_Master or doctorate  \\\n",
       "0                          0                                1   \n",
       "1                          0                                0   \n",
       "2                          0                                1   \n",
       "3                          0                                0   \n",
       "4                          0                                0   \n",
       "..                       ...                              ...   \n",
       "923                        0                                1   \n",
       "924                        0                                1   \n",
       "925                        0                                0   \n",
       "926                        0                                0   \n",
       "927                        1                                0   \n",
       "\n",
       "     education_1_No degree  education_1_Primary  education_1_Vocational  \\\n",
       "0                        0                    0                       0   \n",
       "1                        0                    0                       0   \n",
       "2                        0                    0                       0   \n",
       "3                        0                    0                       0   \n",
       "4                        0                    0                       0   \n",
       "..                     ...                  ...                     ...   \n",
       "923                      0                    0                       0   \n",
       "924                      0                    0                       0   \n",
       "925                      0                    0                       0   \n",
       "926                      0                    0                       0   \n",
       "927                      0                    0                       0   \n",
       "\n",
       "     mean steps per participant  \n",
       "0                   2826.371951  \n",
       "1                   3745.902439  \n",
       "2                    221.536585  \n",
       "3                    874.557927  \n",
       "4                   5554.884146  \n",
       "..                          ...  \n",
       "923                 1742.908537  \n",
       "924                  731.689024  \n",
       "925                 6268.954268  \n",
       "926                 3872.115854  \n",
       "927                 3167.902439  \n",
       "\n",
       "[928 rows x 14 columns]"
      ]
     },
     "execution_count": 12,
     "metadata": {},
     "output_type": "execute_result"
    }
   ],
   "source": [
    "# Create dummy variables for the categorical variables\n",
    "# categorical variables: city, gender and education_1\n",
    "# df_cv = dataframe with categorical variables\n",
    "\n",
    "df_cv = df[['id', 'city', 'gender', 'education_1']]\n",
    "df_cv = pd.get_dummies(df_cv)\n",
    "\n",
    "# df_pm = dataframe predictive model\n",
    "df_pm = pd.merge(df_cv, meanSteps, on='id')\n",
    "df_pm\n"
   ]
  },
  {
   "cell_type": "markdown",
   "metadata": {},
   "source": [
    "#### Start training the model\n",
    "\n",
    "First splitting the data into a training set and a test set. "
   ]
  },
  {
   "cell_type": "code",
   "execution_count": 13,
   "metadata": {},
   "outputs": [
    {
     "data": {
      "text/html": [
       "<div>\n",
       "<style scoped>\n",
       "    .dataframe tbody tr th:only-of-type {\n",
       "        vertical-align: middle;\n",
       "    }\n",
       "\n",
       "    .dataframe tbody tr th {\n",
       "        vertical-align: top;\n",
       "    }\n",
       "\n",
       "    .dataframe thead th {\n",
       "        text-align: right;\n",
       "    }\n",
       "</style>\n",
       "<table border=\"1\" class=\"dataframe\">\n",
       "  <thead>\n",
       "    <tr style=\"text-align: right;\">\n",
       "      <th></th>\n",
       "      <th>city_Bordeaux</th>\n",
       "      <th>city_Lille</th>\n",
       "      <th>city_Lyon</th>\n",
       "      <th>city_Montpellier</th>\n",
       "      <th>gender_Female</th>\n",
       "      <th>gender_Male</th>\n",
       "      <th>education_1_Bachelor</th>\n",
       "      <th>education_1_High school</th>\n",
       "      <th>education_1_Master or doctorate</th>\n",
       "      <th>education_1_No degree</th>\n",
       "      <th>education_1_Primary</th>\n",
       "      <th>education_1_Vocational</th>\n",
       "    </tr>\n",
       "  </thead>\n",
       "  <tbody>\n",
       "    <tr>\n",
       "      <th>66</th>\n",
       "      <td>0</td>\n",
       "      <td>0</td>\n",
       "      <td>1</td>\n",
       "      <td>0</td>\n",
       "      <td>1</td>\n",
       "      <td>0</td>\n",
       "      <td>0</td>\n",
       "      <td>1</td>\n",
       "      <td>0</td>\n",
       "      <td>0</td>\n",
       "      <td>0</td>\n",
       "      <td>0</td>\n",
       "    </tr>\n",
       "    <tr>\n",
       "      <th>742</th>\n",
       "      <td>0</td>\n",
       "      <td>0</td>\n",
       "      <td>1</td>\n",
       "      <td>0</td>\n",
       "      <td>0</td>\n",
       "      <td>1</td>\n",
       "      <td>0</td>\n",
       "      <td>0</td>\n",
       "      <td>1</td>\n",
       "      <td>0</td>\n",
       "      <td>0</td>\n",
       "      <td>0</td>\n",
       "    </tr>\n",
       "    <tr>\n",
       "      <th>364</th>\n",
       "      <td>1</td>\n",
       "      <td>0</td>\n",
       "      <td>0</td>\n",
       "      <td>0</td>\n",
       "      <td>1</td>\n",
       "      <td>0</td>\n",
       "      <td>1</td>\n",
       "      <td>0</td>\n",
       "      <td>0</td>\n",
       "      <td>0</td>\n",
       "      <td>0</td>\n",
       "      <td>0</td>\n",
       "    </tr>\n",
       "    <tr>\n",
       "      <th>368</th>\n",
       "      <td>0</td>\n",
       "      <td>1</td>\n",
       "      <td>0</td>\n",
       "      <td>0</td>\n",
       "      <td>1</td>\n",
       "      <td>0</td>\n",
       "      <td>0</td>\n",
       "      <td>0</td>\n",
       "      <td>1</td>\n",
       "      <td>0</td>\n",
       "      <td>0</td>\n",
       "      <td>0</td>\n",
       "    </tr>\n",
       "    <tr>\n",
       "      <th>803</th>\n",
       "      <td>0</td>\n",
       "      <td>1</td>\n",
       "      <td>0</td>\n",
       "      <td>0</td>\n",
       "      <td>1</td>\n",
       "      <td>0</td>\n",
       "      <td>1</td>\n",
       "      <td>0</td>\n",
       "      <td>0</td>\n",
       "      <td>0</td>\n",
       "      <td>0</td>\n",
       "      <td>0</td>\n",
       "    </tr>\n",
       "  </tbody>\n",
       "</table>\n",
       "</div>"
      ],
      "text/plain": [
       "     city_Bordeaux  city_Lille  city_Lyon  city_Montpellier  gender_Female  \\\n",
       "66               0           0          1                 0              1   \n",
       "742              0           0          1                 0              0   \n",
       "364              1           0          0                 0              1   \n",
       "368              0           1          0                 0              1   \n",
       "803              0           1          0                 0              1   \n",
       "\n",
       "     gender_Male  education_1_Bachelor  education_1_High school  \\\n",
       "66             0                     0                        1   \n",
       "742            1                     0                        0   \n",
       "364            0                     1                        0   \n",
       "368            0                     0                        0   \n",
       "803            0                     1                        0   \n",
       "\n",
       "     education_1_Master or doctorate  education_1_No degree  \\\n",
       "66                                 0                      0   \n",
       "742                                1                      0   \n",
       "364                                0                      0   \n",
       "368                                1                      0   \n",
       "803                                0                      0   \n",
       "\n",
       "     education_1_Primary  education_1_Vocational  \n",
       "66                     0                       0  \n",
       "742                    0                       0  \n",
       "364                    0                       0  \n",
       "368                    0                       0  \n",
       "803                    0                       0  "
      ]
     },
     "execution_count": 13,
     "metadata": {},
     "output_type": "execute_result"
    }
   ],
   "source": [
    "# Create a X and Y with the needed variables\n",
    "y = df_pm['mean steps per participant'] \n",
    "X = df_pm.loc[:,'city_Bordeaux':'education_1_Vocational']\n",
    "\n",
    "X_train, X_test, y_train, y_test = train_test_split(X, y, test_size=0.3, random_state=1) \n",
    "X_train.head() "
   ]
  },
  {
   "cell_type": "code",
   "execution_count": 14,
   "metadata": {},
   "outputs": [],
   "source": [
    "lm = LinearRegression() #create the model\n",
    "model = lm.fit(X_train, y_train) #train the model"
   ]
  },
  {
   "cell_type": "code",
   "execution_count": 15,
   "metadata": {},
   "outputs": [
    {
     "data": {
      "text/html": [
       "<div>\n",
       "<style scoped>\n",
       "    .dataframe tbody tr th:only-of-type {\n",
       "        vertical-align: middle;\n",
       "    }\n",
       "\n",
       "    .dataframe tbody tr th {\n",
       "        vertical-align: top;\n",
       "    }\n",
       "\n",
       "    .dataframe thead th {\n",
       "        text-align: right;\n",
       "    }\n",
       "</style>\n",
       "<table border=\"1\" class=\"dataframe\">\n",
       "  <thead>\n",
       "    <tr style=\"text-align: right;\">\n",
       "      <th></th>\n",
       "      <th>0</th>\n",
       "    </tr>\n",
       "  </thead>\n",
       "  <tbody>\n",
       "    <tr>\n",
       "      <th>2.070932e+16</th>\n",
       "      <td>city_Bordeaux</td>\n",
       "    </tr>\n",
       "    <tr>\n",
       "      <th>2.070932e+16</th>\n",
       "      <td>city_Lille</td>\n",
       "    </tr>\n",
       "    <tr>\n",
       "      <th>2.070932e+16</th>\n",
       "      <td>city_Lyon</td>\n",
       "    </tr>\n",
       "    <tr>\n",
       "      <th>2.070932e+16</th>\n",
       "      <td>city_Montpellier</td>\n",
       "    </tr>\n",
       "    <tr>\n",
       "      <th>8.393515e+16</th>\n",
       "      <td>gender_Female</td>\n",
       "    </tr>\n",
       "    <tr>\n",
       "      <th>8.393515e+16</th>\n",
       "      <td>gender_Male</td>\n",
       "    </tr>\n",
       "    <tr>\n",
       "      <th>-4.134437e+16</th>\n",
       "      <td>education_1_Bachelor</td>\n",
       "    </tr>\n",
       "    <tr>\n",
       "      <th>-4.134437e+16</th>\n",
       "      <td>education_1_High school</td>\n",
       "    </tr>\n",
       "    <tr>\n",
       "      <th>-4.134437e+16</th>\n",
       "      <td>education_1_Master or doctorate</td>\n",
       "    </tr>\n",
       "    <tr>\n",
       "      <th>-4.134437e+16</th>\n",
       "      <td>education_1_No degree</td>\n",
       "    </tr>\n",
       "    <tr>\n",
       "      <th>-4.134437e+16</th>\n",
       "      <td>education_1_Primary</td>\n",
       "    </tr>\n",
       "    <tr>\n",
       "      <th>-4.134437e+16</th>\n",
       "      <td>education_1_Vocational</td>\n",
       "    </tr>\n",
       "  </tbody>\n",
       "</table>\n",
       "</div>"
      ],
      "text/plain": [
       "                                             0\n",
       " 2.070932e+16                    city_Bordeaux\n",
       " 2.070932e+16                       city_Lille\n",
       " 2.070932e+16                        city_Lyon\n",
       " 2.070932e+16                 city_Montpellier\n",
       " 8.393515e+16                    gender_Female\n",
       " 8.393515e+16                      gender_Male\n",
       "-4.134437e+16             education_1_Bachelor\n",
       "-4.134437e+16          education_1_High school\n",
       "-4.134437e+16  education_1_Master or doctorate\n",
       "-4.134437e+16            education_1_No degree\n",
       "-4.134437e+16              education_1_Primary\n",
       "-4.134437e+16           education_1_Vocational"
      ]
     },
     "execution_count": 15,
     "metadata": {},
     "output_type": "execute_result"
    }
   ],
   "source": [
    "coef = pd.DataFrame(X.columns.values, lm.coef_) \n",
    "coef"
   ]
  },
  {
   "cell_type": "markdown",
   "metadata": {},
   "source": [
    "### Evaluation"
   ]
  },
  {
   "cell_type": "markdown",
   "metadata": {},
   "source": [
    "Model performance. Generate predictions and calculate the R^2 and RMSE."
   ]
  },
  {
   "cell_type": "code",
   "execution_count": 16,
   "metadata": {},
   "outputs": [
    {
     "data": {
      "text/plain": [
       "-0.027782805198172333"
      ]
     },
     "execution_count": 16,
     "metadata": {},
     "output_type": "execute_result"
    }
   ],
   "source": [
    "#Evaluate the model on the test data\n",
    "# calculating the R^2\n",
    "y_test_p = lm.predict(X_test) \n",
    "r2_score(y_test, y_test_p)"
   ]
  },
  {
   "cell_type": "markdown",
   "metadata": {},
   "source": [
    "Calculating the RMSE: the root mean squared error."
   ]
  },
  {
   "cell_type": "code",
   "execution_count": 17,
   "metadata": {},
   "outputs": [
    {
     "data": {
      "text/plain": [
       "2896.391662202117"
      ]
     },
     "execution_count": 17,
     "metadata": {},
     "output_type": "execute_result"
    }
   ],
   "source": [
    "# calculating the RMSE\n",
    "math.sqrt(mean_squared_error(y_test, y_test_p))"
   ]
  },
  {
   "cell_type": "markdown",
   "metadata": {},
   "source": [
    "Plotting the predicted values against the actual value based on the train data"
   ]
  },
  {
   "cell_type": "code",
   "execution_count": 18,
   "metadata": {},
   "outputs": [
    {
     "data": {
      "image/png": "[encoded data removed]",
      "text/plain": [
       "<Figure size 640x480 with 1 Axes>"
      ]
     },
     "metadata": {},
     "output_type": "display_data"
    }
   ],
   "source": [
    "plt.scatter(y_test, y_test_p)\n",
    "plt.title('mean step per participant and predicted model')\n",
    "plt.xlim([0,15000])\n",
    "plt.ylim([0,15000])\n",
    "plt.xlabel('mean step per participant and categorical values')\n",
    "plt.ylabel('predicted values')\n",
    "plt.plot([0,15000], [0,15000], color='red', lw=3) \n",
    "plt.show()\n"
   ]
  },
  {
   "cell_type": "markdown",
   "metadata": {},
   "source": [
    "### Describe and interpret the results"
   ]
  },
  {
   "cell_type": "markdown",
   "metadata": {},
   "source": [
    "The predictation is not balanced. There are a few values that are predicted well. But there are more values that the model is predicting to high. This can be seen from the points furthest from the line. There are also some outliers which are predicted to high or to low. There is one outlier exactly on the line. \n"
   ]
  },
  {
   "cell_type": "markdown",
   "metadata": {},
   "source": [
    "## Conclusion"
   ]
  },
  {
   "cell_type": "markdown",
   "metadata": {},
   "source": [
    "The model made a very poor prediction. This is not a reliable model\n"
   ]
  }
 ],
 "metadata": {
  "kernelspec": {
   "display_name": "Python 3.10.8 64-bit (microsoft store)",
   "language": "python",
   "name": "python3"
  },
  "language_info": {
   "codemirror_mode": {
    "name": "ipython",
    "version": 3
   },
   "file_extension": ".py",
   "mimetype": "text/x-python",
   "name": "python",
   "nbconvert_exporter": "python",
   "pygments_lexer": "ipython3",
   "version": "3.10.9 (tags/v3.10.9:1dd9be6, Dec  6 2022, 20:01:21) [MSC v.1934 64 bit (AMD64)]"
  },
  "orig_nbformat": 4,
  "vscode": {
   "interpreter": {
    "hash": "ead26253795ffa37051da622ad05e30ac16f49928e2d1199422a4e8bd90c6c41"
   }
  }
 },
 "nbformat": 4,
 "nbformat_minor": 2
}
